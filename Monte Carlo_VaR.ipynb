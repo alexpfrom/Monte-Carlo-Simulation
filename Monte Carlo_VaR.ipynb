{
 "cells": [
  {
   "cell_type": "code",
   "execution_count": 1,
   "id": "192a3b4e-e390-4de8-832c-e2c323802abb",
   "metadata": {},
   "outputs": [],
   "source": [
    "import numpy as np\n",
    "import pandas as pd\n",
    "import datetime as dt\n",
    "import yfinance as yf\n",
    "import matplotlib.pyplot as plt\n",
    "from scipy.stats import norm\n"
   ]
  },
  {
   "cell_type": "code",
   "execution_count": 11,
   "id": "50184017-71fd-4832-96ab-879b0e00ca71",
   "metadata": {},
   "outputs": [],
   "source": [
    "years = 15\n",
    "\n",
    "endDate = dt.datetime.now()\n",
    "startDate = endDate - dt.timedelta(days = 365*years)\n"
   ]
  },
  {
   "cell_type": "code",
   "execution_count": 12,
   "id": "5415df79-8d59-4b2e-9f1e-c265f586e7d3",
   "metadata": {},
   "outputs": [
    {
     "data": {
      "text/plain": [
       "['SPY', 'BND', 'GLD', 'QQQ', 'VTI', 'BTC']"
      ]
     },
     "execution_count": 12,
     "metadata": {},
     "output_type": "execute_result"
    }
   ],
   "source": [
    "tickers = ['SPY', 'BND', 'GLD', 'QQQ', 'VTI', 'BTC']\n",
    "tickers"
   ]
  },
  {
   "cell_type": "code",
   "execution_count": 13,
   "id": "5d8b0e9f-a980-4e46-836e-88b3ee2d8e85",
   "metadata": {},
   "outputs": [
    {
     "name": "stderr",
     "output_type": "stream",
     "text": [
      "[*********************100%%**********************]  1 of 1 completed\n",
      "[*********************100%%**********************]  1 of 1 completed\n",
      "[*********************100%%**********************]  1 of 1 completed\n",
      "[*********************100%%**********************]  1 of 1 completed\n",
      "[*********************100%%**********************]  1 of 1 completed\n",
      "[*********************100%%**********************]  1 of 1 completed"
     ]
    },
    {
     "name": "stdout",
     "output_type": "stream",
     "text": [
      "                   SPY        BND         GLD         QQQ         VTI   BTC\n",
      "Date                                                                       \n",
      "2009-08-13   76.815041  50.855007   93.720001   35.030495   39.008472   NaN\n",
      "2009-08-14   76.225151  51.011192   93.000000   34.628563   38.651367   NaN\n",
      "2009-08-17   74.349586  51.154465   91.610001   33.623692   37.648403   NaN\n",
      "2009-08-18   74.939461  51.082848   92.059998   34.104286   38.043518   NaN\n",
      "2009-08-19   75.597466  51.141445   92.529999   34.340225   38.370247   NaN\n",
      "...                ...        ...         ...         ...         ...   ...\n",
      "2024-08-02  532.900024  74.410004  225.339996  448.750000  262.899994  5.56\n",
      "2024-08-05  517.380005  74.339996  222.479996  435.369995  255.179993  4.75\n",
      "2024-08-06  522.150024  73.879997  220.699997  439.529999  257.769989  5.05\n",
      "2024-08-07  518.659973  73.699997  220.550003  434.769989  255.800003  4.86\n",
      "2024-08-08  530.650024  73.589996  224.009995  448.070007  261.790009  5.27\n",
      "\n",
      "[3772 rows x 6 columns]\n"
     ]
    },
    {
     "name": "stderr",
     "output_type": "stream",
     "text": [
      "\n"
     ]
    }
   ],
   "source": [
    "adj_close_df = pd.DataFrame()\n",
    "\n",
    "for ticker in tickers:\n",
    "    data = yf.download(ticker, start = startDate, end = endDate)\n",
    "    adj_close_df[ticker] = data['Adj Close']\n",
    "\n",
    "print(adj_close_df)"
   ]
  },
  {
   "cell_type": "code",
   "execution_count": 14,
   "id": "4d6f4a1b-2a8e-4cad-805b-4359805dd0eb",
   "metadata": {},
   "outputs": [
    {
     "name": "stdout",
     "output_type": "stream",
     "text": [
      "                 SPY       BND       GLD       QQQ       VTI       BTC\n",
      "Date                                                                  \n",
      "2024-08-01 -0.014262  0.003731 -0.003449 -0.024520 -0.015790 -0.029801\n",
      "2024-08-02 -0.018794  0.011353 -0.001906 -0.024021 -0.020332 -0.010734\n",
      "2024-08-05 -0.029556 -0.000941 -0.012773 -0.030270 -0.029805 -0.157453\n",
      "2024-08-06  0.009177 -0.006207 -0.008033  0.009510  0.010099  0.061244\n",
      "2024-08-07 -0.006706 -0.002439 -0.000680 -0.010889 -0.007672 -0.038350\n",
      "2024-08-08  0.022854 -0.001494  0.015566  0.030132  0.023147  0.080992\n"
     ]
    }
   ],
   "source": [
    "# Calculate the daily log returns and drop any NAs\n",
    "# .shift(1) gives us our daily returns by taking the stock price divided by the previous days return\n",
    "log_returns = np.log(adj_close_df/adj_close_df.shift(1))\n",
    "log_returns  = log_returns.dropna()\n",
    "\n",
    "print(log_returns)"
   ]
  },
  {
   "cell_type": "code",
   "execution_count": 22,
   "id": "16a71e5c-45e9-4912-ba02-9f780a9722c1",
   "metadata": {},
   "outputs": [],
   "source": [
    "### Create a function that will be used to calculate portfolio expected return\n",
    "#We are assuming that future returns are based on past returns, which is not a reliable assumption.\n",
    "def expected_return(weights, log_returns):\n",
    "    return np.sum(log_returns.mean()*weights)\n"
   ]
  },
  {
   "cell_type": "code",
   "execution_count": 23,
   "id": "ae6e0ba8-d4e5-476f-8a45-e2ee2110af9f",
   "metadata": {},
   "outputs": [],
   "source": [
    "### Create a function that will be used to calculate portfolio standard deviation\n",
    "def standard_deviation (weights, cov_matrix):\n",
    "    variance = weights.T @ cov_matrix @ weights\n",
    "    return np.sqrt(variance)"
   ]
  },
  {
   "cell_type": "code",
   "execution_count": 25,
   "id": "2fc66947-d0ac-4097-b3cf-5b148252b72b",
   "metadata": {},
   "outputs": [
    {
     "name": "stdout",
     "output_type": "stream",
     "text": [
      "          SPY       BND       GLD       QQQ       VTI       BTC\n",
      "SPY  0.000370 -0.000058  0.000136  0.000447  0.000382  0.001473\n",
      "BND -0.000058  0.000038  0.000003 -0.000076 -0.000063 -0.000086\n",
      "GLD  0.000136  0.000003  0.000093  0.000165  0.000136  0.000550\n",
      "QQQ  0.000447 -0.000076  0.000165  0.000559  0.000464  0.001682\n",
      "VTI  0.000382 -0.000063  0.000136  0.000464  0.000395  0.001507\n",
      "BTC  0.001473 -0.000086  0.000550  0.001682  0.001507  0.007220\n"
     ]
    }
   ],
   "source": [
    "### Create a covariance matrix for all the securities\n",
    "cov_matrix = log_returns.cov()\n",
    "print(cov_matrix)"
   ]
  },
  {
   "cell_type": "code",
   "execution_count": 26,
   "id": "f404d3c2-f3ac-4796-90c2-1a51af564afa",
   "metadata": {},
   "outputs": [],
   "source": [
    "### Create an equally weighted portfolio and find total portfolio expected return and standard deviation\n",
    "portfolio_value = 1000000\n",
    "\n",
    "#Create an equally weighted portfolio\n",
    "weights = np.array([1/len(tickers)]*len(tickers))\n",
    "\n",
    "portfolio_expected_return = expected_return(weights, log_returns)\n",
    "portfolio_std_dev = standard_deviation (weights, cov_matrix)"
   ]
  },
  {
   "cell_type": "code",
   "execution_count": 27,
   "id": "51c55194-cb88-4834-a0e2-69117738f507",
   "metadata": {},
   "outputs": [],
   "source": [
    "def random_z_score():\n",
    "    return np.random.normal(0, 1)\n",
    "\n",
    "### Create a function to calculate scenarioGainLoss\n",
    "days = 20\n",
    "\n",
    "def scenario_gain_loss(portfolio_value, portfolio_std_dev, z_score, days):\n",
    "    return portfolio_value * portfolio_expected_return * days + portfolio_value * portfolio_std_dev * z_score * np.sqrt(days)"
   ]
  },
  {
   "cell_type": "code",
   "execution_count": 29,
   "id": "936b7294-8aa5-4235-bbc4-d2f9d7ed3144",
   "metadata": {},
   "outputs": [],
   "source": [
    "### Run 10000 simulations\n",
    "simulations = 10000\n",
    "scenarioReturn = []\n",
    "\n",
    "for i in range(simulations):\n",
    "    z_score = random_z_score()\n",
    "    scenarioReturn.append(scenario_gain_loss(portfolio_value, portfolio_std_dev, z_score, days))"
   ]
  },
  {
   "cell_type": "code",
   "execution_count": 30,
   "id": "316bdc59-d557-4771-aca1-04d9a07a038a",
   "metadata": {},
   "outputs": [
    {
     "name": "stdout",
     "output_type": "stream",
     "text": [
      "378605.7951178163\n"
     ]
    }
   ],
   "source": [
    "### Specify a confidence interval and calculate the Value at Risk (VaR)\n",
    "confidence_interval = 0.99\n",
    "VaR = -np.percentile(scenarioReturn, 100 * (1 - confidence_interval))\n",
    "print(VaR)"
   ]
  },
  {
   "cell_type": "code",
   "execution_count": 31,
   "id": "5e6e72c7-4dd3-4ebf-b76d-ce2025a4e43f",
   "metadata": {},
   "outputs": [
    {
     "data": {
      "image/png": "[encoded data removed]",
      "text/plain": [
       "<Figure size 640x480 with 1 Axes>"
      ]
     },
     "metadata": {},
     "output_type": "display_data"
    }
   ],
   "source": [
    "### Plot the results of all 10000 scenarios\n",
    "plt.hist(scenarioReturn, bins=50, density=True)\n",
    "plt.xlabel('Scenario Gain/Loss ($)')\n",
    "plt.ylabel('Frequency')\n",
    "plt.title(f'Distribution of Portfolio Gain/Loss Over {days} Days')\n",
    "plt.axvline(-VaR, color='r', linestyle='dashed', linewidth=2, label=f'VaR at {confidence_interval:.0%} confidence level')\n",
    "plt.legend()\n",
    "plt.show()"
   ]
  },
  {
   "cell_type": "code",
   "execution_count": null,
   "id": "45cf60d2-6a04-40a1-81d6-4f0e5b2d6af1",
   "metadata": {},
   "outputs": [],
   "source": []
  }
 ],
 "metadata": {
  "kernelspec": {
   "display_name": "Python 3 (ipykernel)",
   "language": "python",
   "name": "python3"
  },
  "language_info": {
   "codemirror_mode": {
    "name": "ipython",
    "version": 3
   },
   "file_extension": ".py",
   "mimetype": "text/x-python",
   "name": "python",
   "nbconvert_exporter": "python",
   "pygments_lexer": "ipython3",
   "version": "3.12.5"
  }
 },
 "nbformat": 4,
 "nbformat_minor": 5
}
